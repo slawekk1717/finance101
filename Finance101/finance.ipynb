{
 "cells": [
  {
   "cell_type": "markdown",
   "metadata": {
    "id": "view-in-github",
    "colab_type": "text"
   },
   "source": [
    "<a href=\"https://colab.research.google.com/github/slawekk1717/finance101/blob/main/Finance101/finance.ipynb\" target=\"_parent\"><img src=\"https://colab.research.google.com/assets/colab-badge.svg\" alt=\"Open In Colab\"/></a>"
   ]
  },
  {
   "cell_type": "code",
   "execution_count": null,
   "metadata": {
    "id": "j4fZq2ixUiCt"
   },
   "outputs": [],
   "source": [
    "import numpy as np\n",
    "import pandas as pd\n",
    "import matplotlib.pyplot as plt"
   ]
  },
  {
   "cell_type": "code",
   "execution_count": null,
   "metadata": {
    "id": "BHnXVwnjUiCu"
   },
   "outputs": [],
   "source": [
    "# pd.read_csv('data/example.csv')\n",
    "# pd.read_csv('https://query1.finance.yahoo.com/v7/finance/download/...')"
   ]
  },
  {
   "cell_type": "code",
   "execution_count": null,
   "metadata": {
    "id": "yQxe3fcJUiCu",
    "outputId": "5c7a843b-1734-4083-c970-7c3dc143e78c",
    "colab": {
     "base_uri": "https://localhost:8080/",
     "height": 599
    }
   },
   "outputs": [],
   "source": [
    "import yfinance as yf\n",
    "\n",
    "def load_prices(tickers, interval='1mo'):\n",
    "    data = yf.download(tickers=tickers, interval=interval, auto_adjust=False, progress=False)\n",
    "    try:\n",
    "        prices = data['Adj Close']\n",
    "    except KeyError:\n",
    "        prices = data['Close']\n",
    "    prices = prices.copy()\n",
    "    if not isinstance(prices.index, pd.DatetimeIndex):\n",
    "        prices.index = pd.to_datetime(prices.index)\n",
    "    return prices.squeeze()\n",
    "\n",
    "rets = load_prices('SPY')\n"
   ]
  },
  {
   "cell_type": "code",
   "execution_count": null,
   "metadata": {
    "id": "pG2Eo7Q9UiCv",
    "outputId": "e7638ef9-fb13-4be3-b0c6-eabe1499fded",
    "colab": {
     "base_uri": "https://localhost:8080/",
     "height": 141
    }
   },
   "outputs": [],
   "source": [
    "type(rets) # 1 dimensional pd.Series for single stock"
   ]
  },
  {
   "cell_type": "code",
   "execution_count": null,
   "metadata": {
    "id": "gqfyxd7mUiCv",
    "outputId": "0d795300-d151-44a0-c17e-a312a67fd44d"
   },
   "outputs": [],
   "source": [
    "rets"
   ]
  },
  {
   "cell_type": "code",
   "execution_count": null,
   "metadata": {
    "id": "0nKRauw7UiCv",
    "outputId": "599295d8-39db-4f03-ad1c-26449ad1cd04"
   },
   "outputs": [],
   "source": [
    "rets = load_prices(['SPY', 'BND'])\n"
   ]
  },
  {
   "cell_type": "code",
   "execution_count": null,
   "metadata": {
    "id": "olf0nfcIUiCv",
    "outputId": "c8c3fb71-7875-4167-94bc-7f1f7a2f145c"
   },
   "outputs": [],
   "source": [
    "type(rets) # 2 dimensional pd.DataFrame for multiple stocks"
   ]
  },
  {
   "cell_type": "code",
   "execution_count": null,
   "metadata": {
    "id": "fsUCpyhyUiCw",
    "outputId": "577ca04f-9a64-46f0-cd2b-493f75d4f154"
   },
   "outputs": [],
   "source": [
    "rets"
   ]
  },
  {
   "cell_type": "code",
   "execution_count": null,
   "metadata": {
    "id": "PLzwrh41UiCw",
    "outputId": "f3d0f62b-f6cd-462e-8a73-743003e96e15"
   },
   "outputs": [],
   "source": [
    "rets.dropna(inplace=True)\n",
    "rets"
   ]
  },
  {
   "cell_type": "code",
   "execution_count": null,
   "metadata": {
    "id": "MZ5bfO4fUiCw",
    "outputId": "adf6d02e-c34c-4d5f-8db2-63c151336d1f"
   },
   "outputs": [],
   "source": [
    "rets = rets.to_period('M')\n",
    "rets # Price Series"
   ]
  },
  {
   "cell_type": "code",
   "execution_count": null,
   "metadata": {
    "id": "bkWw7ycBUiCx",
    "outputId": "1c379cc2-3889-488a-81f3-605223b37717"
   },
   "outputs": [],
   "source": [
    "rets.plot()"
   ]
  },
  {
   "cell_type": "markdown",
   "metadata": {
    "id": "XdeG0uuOUiCx"
   },
   "source": [
    "### Single Period Returns\n",
    "\n",
    "Return from time period $i$ (initial) to $f$ (final):\n",
    "\n",
    "$$ R_{i, f} = \\frac{P_{f}-P_{i}}{P_{i}} $$\n",
    "\n",
    "Buy at 10, sell at 13\n",
    "\n",
    "$$ R_{10, 13} = \\frac{P_{13}-P_{10}}{P_{10}} = \\frac{3}{10} = 0.3 = 30\\% $$"
   ]
  },
  {
   "cell_type": "markdown",
   "metadata": {
    "id": "PNh52rCKUiCz"
   },
   "source": [
    "Identical to:\n",
    "\n",
    "$$ R_{i, f} = \\frac{P_{f}}{P_{i}} - 1 $$\n",
    "\n",
    "$$ R_{10, 13} = \\frac{13}{10} - 1 = 1.3 - 1 = 0.3 = 30\\% $$"
   ]
  },
  {
   "cell_type": "markdown",
   "metadata": {
    "id": "C2GFXR_tUiC0"
   },
   "source": [
    "Price Return if ( $P_{f}$ = Price )\n",
    "\n",
    "Total Return if ( $P_{f}$ = Price + Cashflows)"
   ]
  },
  {
   "cell_type": "markdown",
   "metadata": {
    "id": "p--6TRKOUiC1"
   },
   "source": [
    "### Multi Period Returns"
   ]
  },
  {
   "cell_type": "markdown",
   "metadata": {
    "id": "BZRyEZIIUiC1"
   },
   "source": [
    "$$ R_{t_1, t_3} = (1 + R_{t_1, t_2})(1 + R_{t_2, t_3}) - 1$$\n",
    "\n",
    "DAY 1: 30% gain\n",
    "\n",
    "DAY 2: 30% loss\n",
    "\n",
    "$$ R_{t_1, t_3} = (1 + 0.3)(1 + -0.3) - 1 = (1.3)(0.7) - 1  = 0.91 - 1 = -.09  = -9\\%$$\n",
    "\n",
    "Compound (geometric) returns are NOT additive\n",
    "\n",
    "Geometric return = -9%\n",
    "\n",
    "Arithmetic return = 30 + (-30) = 0%"
   ]
  },
  {
   "cell_type": "code",
   "execution_count": null,
   "metadata": {
    "id": "gEiaqXeMUiC1"
   },
   "outputs": [],
   "source": [
    "# Returns cannot be computed for the first day, as previous closing prices are not available\n",
    "# Whenever we convert from prices to returns, we lose a single data point"
   ]
  },
  {
   "cell_type": "code",
   "execution_count": null,
   "metadata": {
    "id": "D49x_zhMUiC2"
   },
   "outputs": [],
   "source": [
    "# Convert prices to returns\n",
    "rets = rets.pct_change().dropna() # Return Series"
   ]
  },
  {
   "cell_type": "code",
   "execution_count": null,
   "metadata": {
    "id": "qmrEVHlkUiC2",
    "outputId": "5d60bc64-62b9-48f0-f7c0-4981ff0470b7"
   },
   "outputs": [],
   "source": [
    "rets.plot()"
   ]
  },
  {
   "cell_type": "code",
   "execution_count": null,
   "metadata": {
    "id": "TzKSqG0UUiC2",
    "outputId": "7c89cccc-9f83-4c18-9b7b-313d8fab229d"
   },
   "outputs": [],
   "source": [
    "compound_returns = (rets + 1).prod() - 1\n",
    "(compound_returns * 100).round(2).astype('str') + '%'"
   ]
  },
  {
   "cell_type": "code",
   "execution_count": null,
   "metadata": {
    "id": "q1FVKPG0UiC3",
    "outputId": "0c7bd1f3-9506-4fd7-ec97-aa95f91d4e9b"
   },
   "outputs": [],
   "source": [
    "rets.head()\n",
    "rets.tail()\n",
    "rets.size\n",
    "rets.shape"
   ]
  },
  {
   "cell_type": "code",
   "execution_count": null,
   "metadata": {
    "id": "zqj6tgIxUiC3",
    "outputId": "c6441427-37f9-4376-c918-e7c13c89b8be"
   },
   "outputs": [],
   "source": [
    "rets.index\n",
    "rets.columns\n",
    "rets['SPY']\n",
    "rets[['SPY']]"
   ]
  },
  {
   "cell_type": "code",
   "execution_count": null,
   "metadata": {
    "id": "VFA5FoZ2UiC4",
    "outputId": "134cec98-d96b-4a25-99de-7c78001b9135"
   },
   "outputs": [],
   "source": [
    "rets.loc['2009-02']\n",
    "rets.iloc[20]"
   ]
  },
  {
   "cell_type": "code",
   "execution_count": null,
   "metadata": {
    "id": "JstSJoYPUiC4",
    "outputId": "38c88d0c-51fd-4ec3-8f00-38aa815d4254"
   },
   "outputs": [],
   "source": [
    "rets.loc['2009-02': '2009-05']\n",
    "rets.iloc[20:24]"
   ]
  },
  {
   "cell_type": "markdown",
   "metadata": {
    "id": "OTLBnzZ5UiC4"
   },
   "source": [
    "### Measures of Risk\n",
    "\n",
    "Variance\n",
    "$$ \\sigma^2 = \\frac{1}{N} {\\sum_{i=1}^{N}(R_i - \\mu)^2} $$\n",
    "\n",
    "Standard Deviation - Square Root of Variance"
   ]
  },
  {
   "cell_type": "code",
   "execution_count": null,
   "metadata": {
    "id": "2x37OaYwUiC4",
    "outputId": "311be7fd-66c0-47e6-f78f-d0525f536079"
   },
   "outputs": [],
   "source": [
    "rets.std() # Standard Deviation"
   ]
  },
  {
   "cell_type": "markdown",
   "metadata": {
    "id": "d3RPE7aIUiC4"
   },
   "source": [
    "Annualizing Returns\n",
    "\n",
    "If you have a return of 1% / month, what is the annualized return?\n",
    "\n",
    "$$ R_{annualized} = ( (1 + 0.01) (1 + 0.01) (1 + 0.01) ... (1 + 0.01) ) - 1 $$\n",
    "\n",
    "$$ R_{annualized} = (1 + 0.01)^{12} - 1 $$"
   ]
  },
  {
   "cell_type": "code",
   "execution_count": null,
   "metadata": {
    "id": "BGEVmuBRUiC5",
    "outputId": "ce430f2a-6825-4c36-8640-fbdbb6cdc0f0"
   },
   "outputs": [],
   "source": [
    "n_periods = rets.shape[0]\n",
    "compounded_growth = (1+rets).prod()\n",
    "monthly_ret = compounded_growth**(1/n_periods) - 1\n",
    "(monthly_ret + 1)**12 - 1"
   ]
  },
  {
   "cell_type": "code",
   "execution_count": null,
   "metadata": {
    "id": "SutfHMnYUiC5"
   },
   "outputs": [],
   "source": [
    "def annualize_rets(r, periods_per_year=12):\n",
    "    compounded_growth = (1+r).prod()\n",
    "    n_periods = r.shape[0]\n",
    "    return compounded_growth**(periods_per_year / n_periods) - 1"
   ]
  },
  {
   "cell_type": "code",
   "execution_count": null,
   "metadata": {
    "id": "I18iMJ30UiC5",
    "outputId": "0fe1e8af-8ad8-4315-a7ea-177f9cc3fc9f"
   },
   "outputs": [],
   "source": [
    "annualize_rets(rets)"
   ]
  },
  {
   "cell_type": "markdown",
   "metadata": {
    "id": "xDMlNh72UiC5"
   },
   "source": [
    "Annualized Standard Deviation\n",
    "$$ \\sigma * \\sqrt{p}$$"
   ]
  },
  {
   "cell_type": "code",
   "execution_count": null,
   "metadata": {
    "id": "ge2c_DUpUiC5"
   },
   "outputs": [],
   "source": [
    "def annualize_vol(r, periods_per_year=12):\n",
    "    return r.std() * (periods_per_year**0.5)"
   ]
  },
  {
   "cell_type": "code",
   "execution_count": null,
   "metadata": {
    "id": "NUbm3A3uUiC6",
    "outputId": "02cb9064-779f-4774-cada-97b53076fb6b"
   },
   "outputs": [],
   "source": [
    "annualize_vol(rets)"
   ]
  },
  {
   "cell_type": "markdown",
   "metadata": {
    "id": "5GGM7mh7UiC6"
   },
   "source": [
    "Sharpe Ratio"
   ]
  },
  {
   "cell_type": "code",
   "execution_count": null,
   "metadata": {
    "id": "xEVUZIShUiC6",
    "outputId": "d1cd66ca-0f85-4390-a30b-2807de2f5762"
   },
   "outputs": [],
   "source": [
    "# Raw Sharpe Ratio\n",
    "annualize_rets(rets) / annualize_vol(rets)"
   ]
  },
  {
   "cell_type": "code",
   "execution_count": null,
   "metadata": {
    "id": "iXBXOZnhUiC6",
    "outputId": "743218fd-bedd-42c7-88d1-a66eb3360d8f"
   },
   "outputs": [],
   "source": [
    "# Growth of 1 dollar\n",
    "wealth_index = (1+rets).cumprod()\n",
    "wealth_index.plot()"
   ]
  },
  {
   "cell_type": "code",
   "execution_count": null,
   "metadata": {
    "id": "DvJ8u324UiC6",
    "outputId": "439dd284-6001-4f3f-f551-410dc69fd4c7"
   },
   "outputs": [],
   "source": [
    "rets = load_prices('SPY').pct_change().dropna()"
   ]
  },
  {
   "cell_type": "code",
   "execution_count": null,
   "metadata": {
    "id": "zFvqSs33UiC7",
    "outputId": "ee08df38-f874-40c7-df4b-0592673e0632"
   },
   "outputs": [],
   "source": [
    "wealth_index = (1+rets).cumprod()\n",
    "start_date = wealth_index.index.min() - pd.DateOffset(months=1)\n",
    "wealth_index = pd.concat([pd.Series([1], index=[start_date]), wealth_index])\n",
    "\n",
    "previous_peaks = wealth_index.cummax()\n",
    "drawdowns = (wealth_index - previous_peaks)/previous_peaks\n",
    "\n",
    "plt.figure(figsize=(12, 6))\n",
    "max_drawdown = drawdowns.min()\n",
    "max_drawdown_date = drawdowns.idxmin()\n",
    "\n",
    "plt.plot(wealth_index)\n",
    "plt.plot(previous_peaks)\n",
    "plt.plot(drawdowns)\n",
    "\n",
    "plt.annotate(f'Max Drawdown: {max_drawdown:.2%}', xy=(max_drawdown_date, max_drawdown),\n",
    "            xytext=(max_drawdown_date + pd.DateOffset(years=2), max_drawdown * 1.2),\n",
    "            arrowprops=dict(arrowstyle='->', lw=1), color='blue')"
   ]
  }
 ],
 "metadata": {
  "kernelspec": {
   "display_name": "Python 3",
   "language": "python",
   "name": "python3"
  },
  "language_info": {
   "codemirror_mode": {
    "name": "ipython",
    "version": 3
   },
   "file_extension": ".py",
   "mimetype": "text/x-python",
   "name": "python",
   "nbconvert_exporter": "python",
   "pygments_lexer": "ipython3",
   "version": "3.11.4"
  },
  "orig_nbformat": 4,
  "colab": {
   "provenance": [],
   "include_colab_link": true
  }
 },
 "nbformat": 4,
 "nbformat_minor": 0
}